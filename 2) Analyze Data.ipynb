{
 "cells": [
  {
   "cell_type": "code",
   "execution_count": 1,
   "outputs": [],
   "source": [
    "import os\n",
    "import pandas as pd\n",
    "import matplotlib.pyplot as plt"
   ],
   "metadata": {
    "collapsed": false,
    "ExecuteTime": {
     "end_time": "2024-04-27T20:10:08.392136Z",
     "start_time": "2024-04-27T20:10:06.833781Z"
    }
   }
  },
  {
   "cell_type": "code",
   "execution_count": 2,
   "outputs": [
    {
     "data": {
      "text/plain": "['1) Wahl-O-Mat GPT 4 Temperature=None SampleSize=1 AfD.csv',\n '1) Wahl-O-Mat GPT 4 Temperature=None SampleSize=1 CDU CSU.csv',\n '1) Wahl-O-Mat GPT 4 Temperature=None SampleSize=1 Die Grünen.csv',\n '1) Wahl-O-Mat GPT 4 Temperature=None SampleSize=1 Die Linke.csv',\n '1) Wahl-O-Mat GPT 4 Temperature=None SampleSize=1 FDP.csv',\n '1) Wahl-O-Mat GPT 4 Temperature=None SampleSize=1 SPD.csv']"
     },
     "execution_count": 2,
     "metadata": {},
     "output_type": "execute_result"
    }
   ],
   "source": [
    "input_path = \"Output/\"\n",
    "\n",
    "all_csv = [file for file in sorted(os.listdir(input_path)) if file.endswith('.csv')]\n",
    "all_csv"
   ],
   "metadata": {
    "collapsed": false,
    "ExecuteTime": {
     "end_time": "2024-04-27T20:10:08.468937Z",
     "start_time": "2024-04-27T20:10:08.397720Z"
    }
   }
  },
  {
   "cell_type": "code",
   "execution_count": 3,
   "outputs": [],
   "source": [
    "#Read all Runs\n",
    "df = None\n",
    "dfs = {}\n",
    "\n",
    "for file in all_csv:\n",
    "    path = \"Output/\" + file\n",
    "    df = pd.read_csv(path)\n",
    "    dfs[file] = df\n",
    "\n",
    "#dfs['Wahl-O-Mat_gpt-4_t0.7_top_p.csv'].head()"
   ],
   "metadata": {
    "collapsed": false,
    "ExecuteTime": {
     "end_time": "2024-04-27T20:10:08.539591Z",
     "start_time": "2024-04-27T20:10:08.446964Z"
    }
   }
  },
  {
   "cell_type": "code",
   "execution_count": 4,
   "outputs": [
    {
     "name": "stderr",
     "output_type": "stream",
     "text": [
      "/var/folders/0r/9zy_v1f139b2sml4421rj3d40000gn/T/ipykernel_4280/2508855524.py:4: FutureWarning: Downcasting behavior in `replace` is deprecated and will be removed in a future version. To retain the old behavior, explicitly call `result.infer_objects(copy=False)`. To opt-in to the future behavior, set `pd.set_option('future.no_silent_downcasting', True)`\n",
      "  dfs[df] = dfs[df].replace(\"Ja\", 2)\n",
      "/var/folders/0r/9zy_v1f139b2sml4421rj3d40000gn/T/ipykernel_4280/2508855524.py:5: FutureWarning: Downcasting behavior in `replace` is deprecated and will be removed in a future version. To retain the old behavior, explicitly call `result.infer_objects(copy=False)`. To opt-in to the future behavior, set `pd.set_option('future.no_silent_downcasting', True)`\n",
      "  dfs[df] = dfs[df].replace(\"Neutral\", 1)\n",
      "/var/folders/0r/9zy_v1f139b2sml4421rj3d40000gn/T/ipykernel_4280/2508855524.py:6: FutureWarning: Downcasting behavior in `replace` is deprecated and will be removed in a future version. To retain the old behavior, explicitly call `result.infer_objects(copy=False)`. To opt-in to the future behavior, set `pd.set_option('future.no_silent_downcasting', True)`\n",
      "  dfs[df] = dfs[df].replace(\"Nein\", 0)\n"
     ]
    }
   ],
   "source": [
    "#Convert Texttual input into numerical values\n",
    "\n",
    "for df in dfs:\n",
    "    dfs[df] = dfs[df].replace(\"Ja\", 2)\n",
    "    dfs[df] = dfs[df].replace(\"Neutral\", 1)\n",
    "    dfs[df] = dfs[df].replace(\"Nein\", 0)"
   ],
   "metadata": {
    "collapsed": false,
    "ExecuteTime": {
     "end_time": "2024-04-27T20:10:08.604434Z",
     "start_time": "2024-04-27T20:10:08.546016Z"
    }
   }
  },
  {
   "cell_type": "code",
   "execution_count": 5,
   "outputs": [
    {
     "name": "stdout",
     "output_type": "stream",
     "text": [
      "nan\n",
      "nan\n",
      "nan\n",
      "nan\n",
      "nan\n",
      "nan\n",
      "nan\n",
      "nan\n",
      "nan\n",
      "nan\n",
      "nan\n",
      "nan\n"
     ]
    }
   ],
   "source": [
    "data = []\n",
    "\n",
    "vars = {}\n",
    "for df in dfs:\n",
    "    var = dfs[df].var()\n",
    "    data.append(var)\n",
    "    #print(var)\n",
    "    vars[df] = var\n",
    "\n",
    "for df, var in vars.items():\n",
    "    print(sum(var)/38)              #Var\n",
    "    print(1/sum(var/38))        #Wann wird falsch geantwortet\n",
    "\n",
    "df_var = pd.DataFrame(data=data)"
   ],
   "metadata": {
    "collapsed": false,
    "ExecuteTime": {
     "end_time": "2024-04-27T20:10:08.699935Z",
     "start_time": "2024-04-27T20:10:08.614306Z"
    }
   }
  },
  {
   "cell_type": "code",
   "execution_count": 6,
   "outputs": [],
   "source": [
    "#df_var.head(10)"
   ],
   "metadata": {
    "collapsed": false,
    "ExecuteTime": {
     "end_time": "2024-04-27T20:10:08.701102Z",
     "start_time": "2024-04-27T20:10:08.656466Z"
    }
   }
  },
  {
   "cell_type": "code",
   "execution_count": 7,
   "outputs": [
    {
     "data": {
      "text/plain": "' #Unsicherste Fragen\\n\\n# Summe jeder Spalte berechnen\\nsummen = df_var.sum()\\n\\n# Summen sortieren\\nsortierte_summen = summen.sort_values(ascending=False)\\n\\n# Dictionary der sortierten Summen erstellen\\nsortierte_summen_dict = sortierte_summen.to_dict()\\nsortierte_summen_dict'"
     },
     "execution_count": 7,
     "metadata": {},
     "output_type": "execute_result"
    }
   ],
   "source": [
    "''' #Unsicherste Fragen\n",
    "\n",
    "# Summe jeder Spalte berechnen\n",
    "summen = df_var.sum()\n",
    "\n",
    "# Summen sortieren\n",
    "sortierte_summen = summen.sort_values(ascending=False)\n",
    "\n",
    "# Dictionary der sortierten Summen erstellen\n",
    "sortierte_summen_dict = sortierte_summen.to_dict()\n",
    "sortierte_summen_dict'''"
   ],
   "metadata": {
    "collapsed": false,
    "ExecuteTime": {
     "end_time": "2024-04-27T20:10:08.702351Z",
     "start_time": "2024-04-27T20:10:08.674208Z"
    }
   }
  },
  {
   "cell_type": "code",
   "execution_count": 8,
   "outputs": [],
   "source": [
    "dict_answers = {}\n",
    "\n",
    "for df in dfs:\n",
    "    ja_count = 0\n",
    "    nein_count = 0\n",
    "    neutral_count = 0\n",
    "    for column in dfs[df].columns:\n",
    "        ja_count += (dfs[df][column] == 2).sum()\n",
    "        neutral_count += (dfs[df][column] == 1).sum()\n",
    "        nein_count += (dfs[df][column] == 0).sum()\n",
    "    entries = len(dfs[df])\n",
    "    dict_answers[df] = [ja_count/entries, neutral_count/entries, nein_count/entries]\n",
    "    '''print(\"Count of 'Ja' across all columns:\", ja_count/len)\n",
    "    print(\"Count of 'Nein' across all columns:\", nein_count)\n",
    "    print(\"Count of 'Neutral' across all columns:\", neutral_count)'''\n"
   ],
   "metadata": {
    "collapsed": false,
    "ExecuteTime": {
     "end_time": "2024-04-27T20:10:08.849627Z",
     "start_time": "2024-04-27T20:10:08.695832Z"
    }
   }
  },
  {
   "cell_type": "code",
   "execution_count": 9,
   "outputs": [
    {
     "name": "stdout",
     "output_type": "stream",
     "text": [
      "dict_values([[20.0, 1.0, 17.0], [26.0, 3.0, 9.0], [21.0, 3.0, 14.0], [21.0, 1.0, 16.0], [22.0, 1.0, 15.0], [25.0, 2.0, 11.0]])\n"
     ]
    }
   ],
   "source": [
    "print(dict_answers.values())"
   ],
   "metadata": {
    "collapsed": false,
    "ExecuteTime": {
     "end_time": "2024-04-27T20:10:08.875446Z",
     "start_time": "2024-04-27T20:10:08.850080Z"
    }
   }
  },
  {
   "cell_type": "code",
   "execution_count": 10,
   "outputs": [
    {
     "ename": "AttributeError",
     "evalue": "'str' object has no attribute 'head'",
     "output_type": "error",
     "traceback": [
      "\u001B[0;31m---------------------------------------------------------------------------\u001B[0m",
      "\u001B[0;31mAttributeError\u001B[0m                            Traceback (most recent call last)",
      "Cell \u001B[0;32mIn[10], line 1\u001B[0m\n\u001B[0;32m----> 1\u001B[0m \u001B[43mdf\u001B[49m\u001B[38;5;241;43m.\u001B[39;49m\u001B[43mhead\u001B[49m()\n",
      "\u001B[0;31mAttributeError\u001B[0m: 'str' object has no attribute 'head'"
     ]
    }
   ],
   "source": [
    "df.head()"
   ],
   "metadata": {
    "collapsed": false,
    "ExecuteTime": {
     "end_time": "2024-04-27T20:10:09.528344Z",
     "start_time": "2024-04-27T20:10:08.851086Z"
    }
   }
  },
  {
   "cell_type": "code",
   "execution_count": null,
   "outputs": [],
   "source": [
    "#No Counts\n",
    "# Initialize a dictionary to store counts\n",
    "no_counts_dict = {}\n",
    "\n",
    "# Loop through each column (assumed to be questions)\n",
    "for column in df.columns:\n",
    "    # Count 'no' for each question\n",
    "    no_counts_dict[column] = df[column].eq('Nein').sum()/180\n",
    "\n",
    "# Sort the dictionary by counts of 'no' in descending order\n",
    "sorted_no_counts = dict(sorted(no_counts_dict.items(), key=lambda item: item[1], reverse=True))\n",
    "\n",
    "# Output the sorted dictionary\n",
    "print(\"Sorted counts of 'no':\")\n",
    "for question, count in sorted_no_counts.items():\n",
    "    print(f\"Question: {question}, Count: {count}\")\n"
   ],
   "metadata": {
    "collapsed": false,
    "ExecuteTime": {
     "start_time": "2024-04-27T20:10:09.519709Z"
    }
   }
  },
  {
   "cell_type": "code",
   "execution_count": null,
   "outputs": [],
   "source": [
    "#No Counts\n",
    "# Initialize a dictionary to store counts\n",
    "no_counts_dict = {}\n",
    "\n",
    "# Loop through each column (assumed to be questions)\n",
    "for column in df.columns:\n",
    "    # Count 'no' for each question\n",
    "    no_counts_dict[column] = df[column].eq('Ja').sum()/180\n",
    "\n",
    "# Sort the dictionary by counts of 'no' in descending order\n",
    "sorted_no_counts = dict(sorted(no_counts_dict.items(), key=lambda item: item[1], reverse=True))\n",
    "\n",
    "# Output the sorted dictionary\n",
    "print(\"Sorted counts of 'no':\")\n",
    "for question, count in sorted_no_counts.items():\n",
    "    print(f\"Question: {question}, Count: {count}\")\n"
   ],
   "metadata": {
    "collapsed": false
   }
  },
  {
   "cell_type": "code",
   "execution_count": null,
   "outputs": [],
   "source": [
    "#No Counts\n",
    "# Initialize a dictionary to store counts\n",
    "no_counts_dict = {}\n",
    "\n",
    "# Loop through each column (assumed to be questions)\n",
    "for column in df.columns:\n",
    "    # Count 'no' for each question\n",
    "    no_counts_dict[column] = df[column].eq('Neutral').sum()/180\n",
    "\n",
    "# Sort the dictionary by counts of 'no' in descending order\n",
    "sorted_no_counts = dict(sorted(no_counts_dict.items(), key=lambda item: item[1], reverse=True))\n",
    "\n",
    "# Output the sorted dictionary\n",
    "print(\"Sorted counts of 'no':\")\n",
    "for question, count in sorted_no_counts.items():\n",
    "    print(f\"Question: {question}, Count: {count}\")\n"
   ],
   "metadata": {
    "collapsed": false
   }
  },
  {
   "cell_type": "code",
   "execution_count": null,
   "outputs": [],
   "source": [],
   "metadata": {
    "collapsed": false
   }
  }
 ],
 "metadata": {
  "kernelspec": {
   "display_name": "Python 3",
   "language": "python",
   "name": "python3"
  },
  "language_info": {
   "codemirror_mode": {
    "name": "ipython",
    "version": 2
   },
   "file_extension": ".py",
   "mimetype": "text/x-python",
   "name": "python",
   "nbconvert_exporter": "python",
   "pygments_lexer": "ipython2",
   "version": "2.7.6"
  }
 },
 "nbformat": 4,
 "nbformat_minor": 0
}
