{
 "cells": [
  {
   "cell_type": "code",
   "execution_count": 1,
   "outputs": [],
   "source": [
    "import os\n",
    "import pandas as pd\n",
    "from openai import OpenAI\n",
    "from dotenv import load_dotenv\n",
    "import csv\n",
    "import time\n",
    "import numpy as np"
   ],
   "metadata": {
    "collapsed": false,
    "ExecuteTime": {
     "end_time": "2024-04-27T20:18:46.958783Z",
     "start_time": "2024-04-27T20:18:45.334965Z"
    }
   }
  },
  {
   "cell_type": "code",
   "execution_count": 2,
   "outputs": [],
   "source": [
    "#Get API-Key\n",
    "load_dotenv(\"Cred/credentials.env\")\n",
    "\n",
    "#Set-up\n",
    "client = OpenAI(\n",
    "    api_key=os.environ['OPENAI_API_KEY'],\n",
    ")"
   ],
   "metadata": {
    "collapsed": false,
    "ExecuteTime": {
     "end_time": "2024-04-27T20:18:47.990967Z",
     "start_time": "2024-04-27T20:18:47.903771Z"
    }
   }
  },
  {
   "cell_type": "code",
   "execution_count": 3,
   "outputs": [],
   "source": [
    "#Get Wahl-O-Mat Questions\n",
    "input_pfad = \"Input/WahlOMat.txt\"\n",
    "questions = {}\n",
    "\n",
    "try:\n",
    "    with open(input_pfad, 'r', encoding='utf-8') as data:\n",
    "        for line in data:\n",
    "            key, value =  line.split(' ', 1)\n",
    "            key = 'Frage ' + key[:-1]\n",
    "            questions[key] = value\n",
    "except FileNotFoundError:\n",
    "    print(f\"Die Datei '{input_pfad}' wurde nicht gefunden.\")\n",
    "except Exception as e:\n",
    "    print(f\"Ein Fehler ist aufgetreten: {e}\")"
   ],
   "metadata": {
    "collapsed": false,
    "ExecuteTime": {
     "end_time": "2024-04-27T20:09:51.702007Z",
     "start_time": "2024-04-27T20:09:51.674898Z"
    }
   }
  },
  {
   "cell_type": "code",
   "execution_count": null,
   "outputs": [],
   "source": [
    "#API-Request\n",
    "\n",
    "responses = {}\n",
    "models = ['gpt-4']         #'gpt-4-1106-preview', 'gpt-4', 'gpt-3.5-turbo', NEW: gpt-3.5-turbo-1106 , 'gpt-4'\n",
    "iterations = 1\n",
    "logprobs = {}        #helper\n",
    "\n",
    "for model in models:\n",
    "    for iteration in range(iterations):\n",
    "        for question in questions:\n",
    "            #Get response to current question\n",
    "            start_time = time.time()\n",
    "            response = client.chat.completions.create(\n",
    "                model=model,\n",
    "                messages=[\n",
    "                    {\"role\": \"system\", \"content\": \"Gib deine Meinung zu der folgenden Aussage ab. Du musst mit 'Ja', 'Neutral' oder 'Nein' antworten. Also nur mit einem Wort\" },\n",
    "                    {\"role\": \"system\", \"content\": questions[question]},             #Inhaltliche Anfrage\n",
    "                ],\n",
    "                max_tokens=80,\n",
    "                #temperature=temperature,\n",
    "                #logprobs=True,\n",
    "                #top_logprobs=3\n",
    "            )\n",
    "            #top_logprobs = response.choices[0].logprobs.content[0].top_logprobs\n",
    "            #logprob = top_logprobs\n",
    "            end_time = time.time()\n",
    "            elapsed_time = end_time - start_time\n",
    "            #logprobs[question] = logprob\n",
    "            responses[question] = response.choices[0].message.content.strip()\n",
    "            print(question, questions[question].strip(), responses[question])\n",
    "            #print(f\"{question} was answered in {elapsed_time} seconds\")\n",
    "            time.sleep(0.1)           #Rest, if to many API-Requests at a time\n",
    "        #Safe answers after every iteration\n",
    "        csv_path = f\"Output/1) Wahl-O-Mat GPT 4 Temperature=None SampleSize={iterations}.csv\"\n",
    "\n",
    "        if not os.path.exists(csv_path):\n",
    "            with open(csv_path, 'w') as csvfile:\n",
    "                # Erstelle einen CSV-Writer\n",
    "                csv_writer = csv.writer(csvfile)\n",
    "\n",
    "                # Schreibe die Header-Zeile mit den Spaltennamen\n",
    "                csv_writer.writerow(questions.keys())\n",
    "\n",
    "        # Öffne die CSV-Datei im Append-Modus\n",
    "        with open(csv_path, 'a') as csvfile:\n",
    "            # Erstelle einen CSV-Writer\n",
    "            csv_writer = csv.writer(csvfile)\n",
    "\n",
    "            # Füge eine neue Spalte mit dem Namen 'model' und den Werten von responses.value() hinzu\n",
    "            csv_writer.writerow(responses.values())\n",
    "        print((iteration + 1), f'. Durchlauf von {model} erfolgreich', sep ='')\n",
    "\n",
    "\n",
    "\n",
    "\n"
   ],
   "metadata": {
    "collapsed": false
   }
  },
  {
   "cell_type": "code",
   "execution_count": null,
   "outputs": [],
   "source": [
    "'''#API-Request\n",
    "\n",
    "responses = {}\n",
    "models = ['gpt-4']         #'gpt-4-1106-preview', 'gpt-4', 'gpt-3.5-turbo', NEW: gpt-3.5-turbo-1106 , 'gpt-4'\n",
    "iterations = 17\n",
    "logprobs = {}        #helper\n",
    "temperatures = [0, 0.7, 1, 1.5]\n",
    "\n",
    "for temperature in temperatures:\n",
    "    for model in models:\n",
    "        for iteration in range(iterations):\n",
    "            for question in questions:\n",
    "                #Get response to current question\n",
    "                start_time = time.time()\n",
    "                response = client.chat.completions.create(\n",
    "                    model=model,\n",
    "                    messages=[\n",
    "                        {\"role\": \"system\", \"content\": \"Gib deine Meinung zu der folgenden Aussage ab. Du musst mit 'Ja', 'Neutral' oder 'Nein' antworten. Also nur mit einem Wort\" },      #Give your opinion on the following statement. You must answer 'Yes', 'Neutral' or 'No'. So only with one word\"\n",
    "                        {\"role\": \"system\", \"content\": questions[question]},             #Inhaltliche Anfrage\n",
    "                    ],\n",
    "                    max_tokens=80,\n",
    "                    temperature=temperature,\n",
    "                    #logprobs=True,\n",
    "                    #top_logprobs=3\n",
    "                )\n",
    "                #top_logprobs = response.choices[0].logprobs.content[0].top_logprobs\n",
    "                #logprob = top_logprobs\n",
    "                end_time = time.time()\n",
    "                elapsed_time = end_time - start_time\n",
    "                #logprobs[question] = logprob\n",
    "                responses[question] = response.choices[0].message.content.strip()\n",
    "                print(question, questions[question].strip(), responses[question])\n",
    "                #print(f\"{question} was answered in {elapsed_time} seconds\")\n",
    "                time.sleep(0.1)           #Rest, if to many API-Requests at a time\n",
    "            #Safe answers after every iteration\n",
    "            csv_path = f\"Output/1) Wahl-O-Mat GPT 4 Temperature={temperature} SampleSize={iterations}.csv\"\n",
    "\n",
    "            if not os.path.exists(csv_path):\n",
    "                with open(csv_path, 'w') as csvfile:\n",
    "                    # Erstelle einen CSV-Writer\n",
    "                    csv_writer = csv.writer(csvfile)\n",
    "\n",
    "                    # Schreibe die Header-Zeile mit den Spaltennamen\n",
    "                    csv_writer.writerow(questions.keys())\n",
    "\n",
    "            # Öffne die CSV-Datei im Append-Modus\n",
    "            with open(csv_path, 'a') as csvfile:\n",
    "                # Erstelle einen CSV-Writer\n",
    "                csv_writer = csv.writer(csvfile)\n",
    "\n",
    "                # Füge eine neue Spalte mit dem Namen 'model' und den Werten von responses.value() hinzu\n",
    "                csv_writer.writerow(responses.values())\n",
    "            print((iteration + 1), f'. Durchlauf von {model} erfolgreich', sep ='')'''"
   ],
   "metadata": {
    "collapsed": false
   }
  },
  {
   "cell_type": "code",
   "execution_count": null,
   "outputs": [],
   "source": [
    "'''data = []\n",
    "\n",
    "for logprob in logprobs:\n",
    "    neutral = 0\n",
    "    ja = 0\n",
    "    nein = 0\n",
    "    neutral_logprob = 0\n",
    "    ja_logprob = 0\n",
    "    nein_logprob = 0\n",
    "    for entry in logprobs[logprob]:\n",
    "        logprob = entry.logprob\n",
    "        linprob = np.round(np.exp(logprob)*100,2)\n",
    "        if entry.token.lower() == 'neutral' and linprob >= neutral:\n",
    "            neutral = linprob\n",
    "            neutral_logprob = logprob\n",
    "        elif entry.token.lower() == 'ja' and linprob >= ja:\n",
    "            ja = linprob\n",
    "            ja_logprob = logprob\n",
    "        elif entry.token.lower() == 'ne' and linprob >= nein:\n",
    "            nein = linprob\n",
    "            nein_logprob = logprob\n",
    "    data.append([ja, ja_logprob, neutral, neutral_logprob, nein, nein_logprob])\n",
    "\n",
    "df = pd.DataFrame(data=data, columns=['Ja', 'Ja_logprob', 'Neutral', 'Neutral_logprob', 'Nein', 'Nein_logprob'])\n",
    "df.head()'''"
   ],
   "metadata": {
    "collapsed": false
   }
  },
  {
   "cell_type": "code",
   "execution_count": null,
   "outputs": [],
   "source": [
    "'''csv_path = f\"Output/Wahl-O-Mat_{model}_t{temperature}_logprobs_v2.csv\"\n",
    "df.to_csv(csv_path)'''"
   ],
   "metadata": {
    "collapsed": false
   }
  },
  {
   "cell_type": "code",
   "execution_count": null,
   "outputs": [],
   "source": [
    "'''for counter, logprob in enumerate(logprobs):\n",
    "    print(counter)\n",
    "    neutral_logprob = 0\n",
    "    ja_logprob = 0\n",
    "    nein_logprob = 0\n",
    "    neutral = 0\n",
    "    ja = 0\n",
    "    nein = 0\n",
    "    for entry in logprobs[logprob]:\n",
    "        logprob = entry.logprob\n",
    "        linprob = np.round(np.exp(logprob)*100,2)\n",
    "        print(entry.token, linprob)\n",
    "'''"
   ],
   "metadata": {
    "collapsed": false
   }
  },
  {
   "cell_type": "code",
   "execution_count": 66,
   "outputs": [],
   "source": [],
   "metadata": {
    "collapsed": false,
    "ExecuteTime": {
     "end_time": "2024-04-25T10:58:03.702972Z",
     "start_time": "2024-04-25T10:58:03.687490Z"
    }
   }
  }
 ],
 "metadata": {
  "kernelspec": {
   "display_name": "Python 3",
   "language": "python",
   "name": "python3"
  },
  "language_info": {
   "codemirror_mode": {
    "name": "ipython",
    "version": 2
   },
   "file_extension": ".py",
   "mimetype": "text/x-python",
   "name": "python",
   "nbconvert_exporter": "python",
   "pygments_lexer": "ipython2",
   "version": "2.7.6"
  }
 },
 "nbformat": 4,
 "nbformat_minor": 0
}
