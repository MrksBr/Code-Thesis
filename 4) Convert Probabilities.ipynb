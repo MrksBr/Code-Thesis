{
 "cells": [
  {
   "cell_type": "code",
   "execution_count": 99,
   "metadata": {
    "collapsed": true,
    "ExecuteTime": {
     "end_time": "2024-03-26T19:54:06.613005Z",
     "start_time": "2024-03-26T19:54:06.592334Z"
    }
   },
   "outputs": [],
   "source": [
    "import pandas as pd"
   ]
  },
  {
   "cell_type": "code",
   "execution_count": 118,
   "outputs": [],
   "source": [
    "path = 'Output/Scaled Probs/'\n",
    "file_name = 'Probability of next Token - Sheet4.csv'\n",
    "df = pd.read_csv(path + file_name)\n",
    "df = df.T"
   ],
   "metadata": {
    "collapsed": false,
    "ExecuteTime": {
     "end_time": "2024-03-26T20:01:33.812329Z",
     "start_time": "2024-03-26T20:01:33.793132Z"
    }
   }
  },
  {
   "cell_type": "code",
   "execution_count": 119,
   "outputs": [
    {
     "data": {
      "text/plain": "            0      1      2      3     4      5      6      7      8      9   \\\nJa        0.23    0.0  97.16   0.00  99.9   0.00  99.33  98.46   0.00  38.49   \nNeutral  99.76  100.0   2.84   0.02   0.1  99.99   0.67   1.54  93.81  61.51   \nNein      0.01    0.0   0.00  99.98   0.0   0.01   0.00   0.00   6.19   0.00   \n\n         ...     28     29     30     31     32     33     34     35     36  \\\nJa       ...   0.01  99.24  100.0  100.0  22.27   0.06   0.13   9.53  85.19   \nNeutral  ...  99.88   0.76    0.0    0.0  77.73  99.94  99.86  90.46  14.80   \nNein     ...   0.11   0.00    0.0    0.0   0.00   0.00   0.02   0.00   0.01   \n\n            37  \nJa       100.0  \nNeutral    0.0  \nNein       0.0  \n\n[3 rows x 38 columns]",
      "text/html": "<div>\n<style scoped>\n    .dataframe tbody tr th:only-of-type {\n        vertical-align: middle;\n    }\n\n    .dataframe tbody tr th {\n        vertical-align: top;\n    }\n\n    .dataframe thead th {\n        text-align: right;\n    }\n</style>\n<table border=\"1\" class=\"dataframe\">\n  <thead>\n    <tr style=\"text-align: right;\">\n      <th></th>\n      <th>0</th>\n      <th>1</th>\n      <th>2</th>\n      <th>3</th>\n      <th>4</th>\n      <th>5</th>\n      <th>6</th>\n      <th>7</th>\n      <th>8</th>\n      <th>9</th>\n      <th>...</th>\n      <th>28</th>\n      <th>29</th>\n      <th>30</th>\n      <th>31</th>\n      <th>32</th>\n      <th>33</th>\n      <th>34</th>\n      <th>35</th>\n      <th>36</th>\n      <th>37</th>\n    </tr>\n  </thead>\n  <tbody>\n    <tr>\n      <th>Ja</th>\n      <td>0.23</td>\n      <td>0.0</td>\n      <td>97.16</td>\n      <td>0.00</td>\n      <td>99.9</td>\n      <td>0.00</td>\n      <td>99.33</td>\n      <td>98.46</td>\n      <td>0.00</td>\n      <td>38.49</td>\n      <td>...</td>\n      <td>0.01</td>\n      <td>99.24</td>\n      <td>100.0</td>\n      <td>100.0</td>\n      <td>22.27</td>\n      <td>0.06</td>\n      <td>0.13</td>\n      <td>9.53</td>\n      <td>85.19</td>\n      <td>100.0</td>\n    </tr>\n    <tr>\n      <th>Neutral</th>\n      <td>99.76</td>\n      <td>100.0</td>\n      <td>2.84</td>\n      <td>0.02</td>\n      <td>0.1</td>\n      <td>99.99</td>\n      <td>0.67</td>\n      <td>1.54</td>\n      <td>93.81</td>\n      <td>61.51</td>\n      <td>...</td>\n      <td>99.88</td>\n      <td>0.76</td>\n      <td>0.0</td>\n      <td>0.0</td>\n      <td>77.73</td>\n      <td>99.94</td>\n      <td>99.86</td>\n      <td>90.46</td>\n      <td>14.80</td>\n      <td>0.0</td>\n    </tr>\n    <tr>\n      <th>Nein</th>\n      <td>0.01</td>\n      <td>0.0</td>\n      <td>0.00</td>\n      <td>99.98</td>\n      <td>0.0</td>\n      <td>0.01</td>\n      <td>0.00</td>\n      <td>0.00</td>\n      <td>6.19</td>\n      <td>0.00</td>\n      <td>...</td>\n      <td>0.11</td>\n      <td>0.00</td>\n      <td>0.0</td>\n      <td>0.0</td>\n      <td>0.00</td>\n      <td>0.00</td>\n      <td>0.02</td>\n      <td>0.00</td>\n      <td>0.01</td>\n      <td>0.0</td>\n    </tr>\n  </tbody>\n</table>\n<p>3 rows × 38 columns</p>\n</div>"
     },
     "execution_count": 119,
     "metadata": {},
     "output_type": "execute_result"
    }
   ],
   "source": [
    "df.head()"
   ],
   "metadata": {
    "collapsed": false,
    "ExecuteTime": {
     "end_time": "2024-03-26T20:01:35.382056Z",
     "start_time": "2024-03-26T20:01:35.358970Z"
    }
   }
  },
  {
   "cell_type": "code",
   "execution_count": 120,
   "outputs": [],
   "source": [
    "#for column in df.columns:\n",
    "#agg = sum(df[column])\n",
    "data = []\n",
    "columns = ['Frage 1', 'Frage 2', 'Frage 3', 'Frage 4', 'Frage 5', 'Frage 6', 'Frage 7', 'Frage 8', 'Frage 9', 'Frage 10', 'Frage 11', 'Frage 12', 'Frage 13', 'Frage 14', 'Frage 15', 'Frage 16', 'Frage 17', 'Frage 18', 'Frage 19', 'Frage 20', 'Frage 21', 'Frage 22', 'Frage 23', 'Frage 24', 'Frage 25', 'Frage 26', 'Frage 27', 'Frage 28', 'Frage 29', 'Frage 30', 'Frage 31', 'Frage 32', 'Frage 33', 'Frage 34', 'Frage 35', 'Frage 36', 'Frage 37', 'Frage 38']\n",
    "\n",
    "\n",
    "#for column in df.columns:\n",
    "counter = 0\n",
    "for column in df.columns:\n",
    "    new_column = []\n",
    "    for index, value in zip(df.index, df[column]):\n",
    "        for i in range(int(round(value*1))):\n",
    "            new_column.append(index)\n",
    "    data.append(new_column)\n",
    "    counter += 1\n",
    "\n",
    "df_new = pd.DataFrame(data=data, index=columns).T"
   ],
   "metadata": {
    "collapsed": false,
    "ExecuteTime": {
     "end_time": "2024-03-26T20:01:36.739891Z",
     "start_time": "2024-03-26T20:01:36.723647Z"
    }
   }
  },
  {
   "cell_type": "code",
   "execution_count": 121,
   "outputs": [],
   "source": [
    "df_new.to_csv(f'Output/Scaled Probs - {file_name}', index=False)"
   ],
   "metadata": {
    "collapsed": false,
    "ExecuteTime": {
     "end_time": "2024-03-26T20:01:37.777997Z",
     "start_time": "2024-03-26T20:01:37.758679Z"
    }
   }
  },
  {
   "cell_type": "code",
   "execution_count": null,
   "outputs": [],
   "source": [],
   "metadata": {
    "collapsed": false
   }
  }
 ],
 "metadata": {
  "kernelspec": {
   "display_name": "Python 3",
   "language": "python",
   "name": "python3"
  },
  "language_info": {
   "codemirror_mode": {
    "name": "ipython",
    "version": 2
   },
   "file_extension": ".py",
   "mimetype": "text/x-python",
   "name": "python",
   "nbconvert_exporter": "python",
   "pygments_lexer": "ipython2",
   "version": "2.7.6"
  }
 },
 "nbformat": 4,
 "nbformat_minor": 0
}
